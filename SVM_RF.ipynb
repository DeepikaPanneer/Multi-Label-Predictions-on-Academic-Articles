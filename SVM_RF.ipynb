{
 "cells": [
  {
   "cell_type": "code",
   "execution_count": null,
   "metadata": {
    "colab": {
     "base_uri": "https://localhost:8080/"
    },
    "id": "2D1UrM4fqhia",
    "outputId": "fdb3ec87-aafb-40c6-94d2-3e2a7d2ec975"
   },
   "outputs": [],
   "source": [
    "!pip install scikit-multilearn\n",
    "!pip install scikit-learn-extra"
   ]
  },
  {
   "cell_type": "code",
   "execution_count": null,
   "metadata": {
    "colab": {
     "base_uri": "https://localhost:8080/"
    },
    "id": "lmqWd5pXqyMZ",
    "outputId": "9a08e085-f793-4bed-f4a0-3460a8473d0e"
   },
   "outputs": [],
   "source": [
    "from google.colab import drive\n",
    "drive.mount('/content/drive')"
   ]
  },
  {
   "cell_type": "code",
   "execution_count": null,
   "metadata": {
    "id": "e77S5D5hqxDc"
   },
   "outputs": [],
   "source": [
    "import pandas as pd\n",
    "import numpy as np\n",
    "from sklearn.model_selection import train_test_split\n",
    "from sklearn.ensemble import RandomForestClassifier\n",
    "from sklearn.metrics import accuracy_score, f1_score, precision_score, recall_score, hamming_loss,coverage_error, confusion_matrix\n",
    "from sklearn_extra.cluster import KMedoids\n",
    "from sklearn.metrics import coverage_error\n",
    "from sklearn.neighbors import NearestNeighbors\n",
    "from gensim.models import Word2Vec\n",
    "import random"
   ]
  },
  {
   "cell_type": "code",
   "execution_count": null,
   "metadata": {
    "id": "NQvUNozHrLeQ"
   },
   "outputs": [],
   "source": [
    "train_data = pd.read_csv('/content/drive/MyDrive/practicum/data.csv')"
   ]
  },
  {
   "cell_type": "code",
   "execution_count": null,
   "metadata": {
    "id": "WBpT6yw5q2Zg"
   },
   "outputs": [],
   "source": [
    "# Load the dataset\n",
    "train_data = pd.read_csv('/content/drive/MyDrive/practicum/data.csv')\n",
    "train_data['TEXT'] = train_data['TITLE'] + ' ' + train_data['ABSTRACT']\n",
    "\n",
    "X = train_data['TEXT']\n",
    "y = train_data[['Computer Science', 'Physics', 'Mathematics', 'Statistics', 'Quantitative Biology', 'Quantitative Finance']].values\n",
    "\n",
    "# Split the dataset\n",
    "X_train, X_val, y_train, y_val = train_test_split(X, y, test_size=0.2, random_state=42)\n",
    "\n",
    "# Train a Word2Vec model\n",
    "sentences = [text.split() for text in X_train]\n",
    "word2vec_model = Word2Vec(sentences, vector_size=100, window=5, min_count=1, workers=4)"
   ]
  },
  {
   "cell_type": "code",
   "execution_count": null,
   "metadata": {
    "id": "Iy35JvK0rSH2"
   },
   "outputs": [],
   "source": [
    "# Vectorize your text data using Word2Vec embeddings\n",
    "def average_word_vectors(words, model, num_features):\n",
    "    feature_vector = np.zeros((num_features,), dtype=\"float64\")\n",
    "    n_words = 0\n",
    "    for word in words:\n",
    "        if word in model.wv:\n",
    "            n_words += 1\n",
    "            feature_vector = np.add(feature_vector, model.wv[word])\n",
    "    if n_words:\n",
    "        feature_vector = np.divide(feature_vector, n_words)\n",
    "    return feature_vector\n",
    "\n",
    "def get_average_vectors(data, model, num_features):\n",
    "    return np.array([average_word_vectors(words, model, num_features) for words in data])\n",
    "\n",
    "# Vectorize train and validation data\n",
    "X_train_word2vec = get_average_vectors([text.split() for text in X_train], word2vec_model, 100)\n",
    "X_val_word2vec = get_average_vectors([text.split() for text in X_val], word2vec_model, 100)"
   ]
  },
  {
   "cell_type": "code",
   "execution_count": null,
   "metadata": {
    "id": "0fVGxyUCra0A"
   },
   "outputs": [],
   "source": [
    "# Helper function to identify minority labels\n",
    "def get_tail_labels(y):\n",
    "    tail_labels = [i for i in range(y.shape[1]) if np.sum(y[:, i]) < (y.shape[0] / 2)]\n",
    "    return tail_labels\n",
    "\n",
    "# Dynamic MLSMOTE function\n",
    "def dynamic_MLSMOTE(X, y, target_balance=4500):\n",
    "    n_neighbors = min(5, len(X) - 1)\n",
    "    neigh = NearestNeighbors(n_neighbors=n_neighbors)\n",
    "    neigh.fit(X)\n",
    "    tail_labels = get_tail_labels(y)\n",
    "    synthetic_samples = []\n",
    "    synthetic_labels = []\n",
    "\n",
    "    for i in tail_labels:\n",
    "        current_count = np.sum(y[:, i])\n",
    "        n_samples = max(target_balance - current_count, 0)  # Calculate the number of samples to generate\n",
    "        target_indices = np.where(y[:, i] == 1)[0]\n",
    "\n",
    "        if len(target_indices) >= n_neighbors:\n",
    "            nn = neigh.kneighbors(X[target_indices], return_distance=False)\n",
    "            for _ in range(n_samples):\n",
    "                sample_index = random.choice(range(len(target_indices)))\n",
    "                nn_indices = nn[sample_index, 1:]\n",
    "                chosen_nn = random.choice(nn_indices)\n",
    "                step = np.random.rand()\n",
    "                synthetic_sample = X[target_indices[sample_index]] + step * (X[chosen_nn] - X[target_indices[sample_index]])\n",
    "                synthetic_samples.append(synthetic_sample)\n",
    "                synthetic_label = y[target_indices[sample_index]].copy()\n",
    "                synthetic_labels.append(synthetic_label)\n",
    "\n",
    "    if len(synthetic_samples) > 0:\n",
    "        X_synthetic = np.vstack(synthetic_samples)\n",
    "        y_synthetic = np.vstack(synthetic_labels)\n",
    "        X_balanced = np.vstack((X, X_synthetic))\n",
    "        y_balanced = np.vstack((y, y_synthetic))\n",
    "        return X_balanced, y_balanced\n",
    "    else:\n",
    "        return X, y"
   ]
  },
  {
   "cell_type": "code",
   "execution_count": null,
   "metadata": {
    "id": "zGiaeOABrh_X"
   },
   "outputs": [],
   "source": []
  },
  {
   "cell_type": "code",
   "execution_count": null,
   "metadata": {
    "colab": {
     "base_uri": "https://localhost:8080/"
    },
    "id": "VVivb0pha_rS",
    "outputId": "d7c1be80-1af8-4016-8410-79f9ae8d22ca"
   },
   "outputs": [],
   "source": [
    "y_train_np = y_train\n",
    "target_balance = 4500\n",
    "X_balanced_word2vec, y_balanced = dynamic_MLSMOTE(X_train_word2vec, y_train_np, target_balance=target_balance)\n",
    "\n",
    "\n",
    "rf_classifier = RandomForestClassifier()\n",
    "rf_classifier.fit(X_balanced_word2vec, y_balanced)\n",
    "\n",
    "y_pred_val = rf_classifier.predict(X_val_word2vec)\n",
    "\n",
    "accuracy = accuracy_score(y_val, y_pred_val)\n",
    "f1 = f1_score(y_val, y_pred_val, average='weighted')\n",
    "precision = precision_score(y_val, y_pred_val, average='weighted')\n",
    "recall = recall_score(y_val, y_pred_val, average='weighted')\n",
    "hamming = hamming_loss(y_val, y_pred_val)\n",
    "coverage = coverage_error(y_val, y_pred_val)\n",
    "tn, fp, fn, tp = confusion_matrix(y_val.ravel(), y_pred_val.ravel()).ravel()\n",
    "g_mean = np.sqrt((tp / (tp + fn)) * (tn / (tn + fp)))\n",
    "\n",
    "print(\"Accuracy: {:.4f}\".format(accuracy))\n",
    "print(\"F1 Score: {:.4f}\".format(f1))\n",
    "print(\"Precision: {:.4f}\".format(precision))\n",
    "print(\"Recall: {:.4f}\".format(recall))\n",
    "print(\"Hamming Loss: {:.4f}\".format(hamming))\n",
    "print(\"Coverage: {:.4f}\".format(coverage))\n",
    "print(\"G-Mean: {:.4f}\".format(g_mean))"
   ]
  },
  {
   "cell_type": "code",
   "execution_count": null,
   "metadata": {
    "colab": {
     "base_uri": "https://localhost:8080/"
    },
    "id": "bfmc12h6bCIS",
    "outputId": "3525eebd-99bb-4efa-e6c7-4e8b3e80a29e"
   },
   "outputs": [],
   "source": [
    "from skmultilearn.problem_transform import BinaryRelevance, ClassifierChain, LabelPowerset\n",
    "# Binary Relevance\n",
    "classifier_br = BinaryRelevance(RandomForestClassifier())\n",
    "classifier_br.fit(X_balanced_word2vec, y_balanced)\n",
    "y_pred_val_br = classifier_br.predict(X_val_word2vec)\n",
    "accuracy_br = accuracy_score(y_val, y_pred_val_br)\n",
    "f1_br = f1_score(y_val, y_pred_val_br, average='weighted')\n",
    "precision_br = precision_score(y_val, y_pred_val_br, average='weighted')\n",
    "recall_br = recall_score(y_val, y_pred_val_br, average='weighted')\n",
    "hamming_br = hamming_loss(y_val, y_pred_val_br)\n",
    "coverage_br = coverage_error(y_val, y_pred_val_br.toarray())\n",
    "print(\"Binary Relevance:\")\n",
    "print(\"Accuracy: {:.4f}\".format(accuracy_br))\n",
    "print(\"F1 Score: {:.4f}\".format(f1_br))\n",
    "print(\"Precision: {:.4f}\".format(precision_br))\n",
    "print(\"Recall: {:.4f}\".format(recall_br))\n",
    "print(\"Hamming Loss: {:.4f}\".format(hamming_br))\n",
    "print(\"Coverage: {:.4f}\".format(coverage_br))\n"
   ]
  },
  {
   "cell_type": "code",
   "execution_count": null,
   "metadata": {
    "colab": {
     "base_uri": "https://localhost:8080/"
    },
    "id": "xisUHmtIbERT",
    "outputId": "477c259f-add3-423d-f066-e15accfdc4c3"
   },
   "outputs": [],
   "source": [
    "# Classifier Chains\n",
    "classifier_cc = ClassifierChain(RandomForestClassifier())\n",
    "classifier_cc.fit(X_balanced_word2vec, y_balanced)\n",
    "y_pred_val_cc = classifier_cc.predict(X_val_word2vec)\n",
    "accuracy_cc = accuracy_score(y_val, y_pred_val_cc)\n",
    "f1_cc = f1_score(y_val, y_pred_val_cc, average='weighted')\n",
    "precision_cc = precision_score(y_val, y_pred_val_cc, average='weighted')\n",
    "recall_cc = recall_score(y_val, y_pred_val_cc, average='weighted')\n",
    "hamming_cc = hamming_loss(y_val, y_pred_val_cc)\n",
    "coverage_cc = coverage_error(y_val, y_pred_val_cc.toarray())\n",
    "print(\"Classifier Chains:\")\n",
    "print(\"Accuracy: {:.4f}\".format(accuracy_cc))\n",
    "print(\"F1 Score: {:.4f}\".format(f1_cc))\n",
    "print(\"Precision: {:.4f}\".format(precision_cc))\n",
    "print(\"Recall: {:.4f}\".format(recall_cc))\n",
    "print(\"Hamming Loss: {:.4f}\".format(hamming_cc))\n",
    "print(\"Coverage: {:.4f}\".format(coverage_cc))\n"
   ]
  },
  {
   "cell_type": "code",
   "execution_count": null,
   "metadata": {
    "colab": {
     "base_uri": "https://localhost:8080/"
    },
    "id": "qzbHE57QbHOo",
    "outputId": "a8805a3d-79c8-4a7e-8a8c-a7aeb4ad8531"
   },
   "outputs": [],
   "source": [
    "# Label Powerset\n",
    "classifier_lp = LabelPowerset(RandomForestClassifier())\n",
    "classifier_lp.fit(X_balanced_word2vec, y_balanced)\n",
    "y_pred_val_lp = classifier_lp.predict(X_val_word2vec)\n",
    "accuracy_lp = accuracy_score(y_val, y_pred_val_lp)\n",
    "f1_lp = f1_score(y_val, y_pred_val_lp, average='weighted')\n",
    "precision_lp = precision_score(y_val, y_pred_val_lp, average='weighted')\n",
    "recall_lp = recall_score(y_val, y_pred_val_lp, average='weighted')\n",
    "hamming_lp = hamming_loss(y_val, y_pred_val_lp)\n",
    "coverage_lp = coverage_error(y_val, y_pred_val_lp.toarray())\n",
    "print(\"Label Powerset:\")\n",
    "print(\"Accuracy: {:.4f}\".format(accuracy_lp))\n",
    "print(\"F1 Score: {:.4f}\".format(f1_lp))\n",
    "print(\"Precision: {:.4f}\".format(precision_lp))\n",
    "print(\"Recall: {:.4f}\".format(recall_lp))\n",
    "print(\"Hamming Loss: {:.4f}\".format(hamming_lp))\n",
    "print(\"Coverage: {:.4f}\".format(coverage_lp))"
   ]
  },
  {
   "cell_type": "code",
   "execution_count": 4,
   "metadata": {
    "id": "zQcfnTdEsLFq"
   },
   "outputs": [],
   "source": [
    "from sklearn.model_selection import train_test_split\n",
    "from sklearn.feature_extraction.text import TfidfVectorizer\n",
    "from sklearn.pipeline import Pipeline\n",
    "from sklearn.multioutput import ClassifierChain\n",
    "from sklearn.naive_bayes import MultinomialNB\n",
    "from sklearn.svm import SVC"
   ]
  },
  {
   "cell_type": "code",
   "execution_count": null,
   "metadata": {
    "colab": {
     "base_uri": "https://localhost:8080/"
    },
    "id": "VhgCBK-crm88",
    "outputId": "77b2c2a8-cb35-45c7-ced8-c983a24ca85c"
   },
   "outputs": [],
   "source": [
    "# Label Powerset SVM\n",
    "classifier_lp = LabelPowerset(SVC(class_weight='balanced'))\n",
    "classifier_lp.fit(X_balanced_word2vec, y_balanced)\n",
    "y_pred_val_lp = classifier_lp.predict(X_val_word2vec)\n",
    "accuracy_lp = accuracy_score(y_val, y_pred_val_lp)\n",
    "f1_lp = f1_score(y_val, y_pred_val_lp, average='weighted')\n",
    "precision_lp = precision_score(y_val, y_pred_val_lp, average='weighted')\n",
    "recall_lp = recall_score(y_val, y_pred_val_lp, average='weighted')\n",
    "hamming_lp = hamming_loss(y_val, y_pred_val_lp)\n",
    "coverage_lp = coverage_error(y_val, y_pred_val_lp.toarray())\n",
    "print(\"Label Powerset:\")\n",
    "print(\"Accuracy: {:.4f}\".format(accuracy_lp))\n",
    "print(\"F1 Score: {:.4f}\".format(f1_lp))\n",
    "print(\"Precision: {:.4f}\".format(precision_lp))\n",
    "print(\"Recall: {:.4f}\".format(recall_lp))\n",
    "print(\"Hamming Loss: {:.4f}\".format(hamming_lp))\n",
    "print(\"Coverage: {:.4f}\".format(coverage_lp))"
   ]
  },
  {
   "cell_type": "code",
   "execution_count": null,
   "metadata": {
    "colab": {
     "base_uri": "https://localhost:8080/"
    },
    "id": "TzCWTvbzsBAC",
    "outputId": "5da553cd-2079-4c80-b2ca-6ee461af1377"
   },
   "outputs": [],
   "source": [
    "# Binary Relevance SVM\n",
    "classifier_br = BinaryRelevance(SVC(class_weight='balanced'))\n",
    "classifier_br.fit(X_balanced_word2vec, y_balanced)\n",
    "y_pred_val_br = classifier_br.predict(X_val_word2vec)\n",
    "accuracy_br = accuracy_score(y_val, y_pred_val_br)\n",
    "f1_br = f1_score(y_val, y_pred_val_br, average='weighted')\n",
    "precision_br = precision_score(y_val, y_pred_val_br, average='weighted')\n",
    "recall_br = recall_score(y_val, y_pred_val_br, average='weighted')\n",
    "hamming_br = hamming_loss(y_val, y_pred_val_br)\n",
    "coverage_br = coverage_error(y_val, y_pred_val_br.toarray())\n",
    "print(\"Binary Relevance:\")\n",
    "print(\"Accuracy: {:.4f}\".format(accuracy_br))\n",
    "print(\"F1 Score: {:.4f}\".format(f1_br))\n",
    "print(\"Precision: {:.4f}\".format(precision_br))\n",
    "print(\"Recall: {:.4f}\".format(recall_br))\n",
    "print(\"Hamming Loss: {:.4f}\".format(hamming_br))\n",
    "print(\"Coverage: {:.4f}\".format(coverage_br))\n"
   ]
  },
  {
   "cell_type": "code",
   "execution_count": null,
   "metadata": {
    "id": "8Sz7Igm7sYsc"
   },
   "outputs": [],
   "source": [
    "# Binary Relevance SVM\n",
    "# classifier_br = BinaryRelevance()\n",
    "classifier_cc = ClassifierChain(SVC(class_weight='balanced'))\n",
    "classifier_cc.fit(X_balanced_word2vec, y_balanced)\n",
    "y_pred_val_cc = classifier_cc.predict(X_val_word2vec)\n",
    "accuracy_cc = accuracy_score(y_val, y_pred_val_cc)\n",
    "f1_cc = f1_score(y_val, y_pred_val_cc, average='weighted')\n",
    "precision_cc = precision_score(y_val, y_pred_val_cc, average='weighted')\n",
    "recall_cc = recall_score(y_val, y_pred_val_cc, average='weighted')\n",
    "hamming_cc = hamming_loss(y_val, y_pred_val_cc)\n",
    "# coverage_cc = coverage_error(y_val, y_pred_val_cc.toarray())\n",
    "print(\"Classifier Chains:\")\n",
    "print(\"Accuracy: {:.4f}\".format(accuracy_cc))\n",
    "print(\"F1 Score: {:.4f}\".format(f1_cc))\n",
    "print(\"Precision: {:.4f}\".format(precision_cc))\n",
    "print(\"Recall: {:.4f}\".format(recall_cc))\n",
    "print(\"Hamming Loss: {:.4f}\".format(hamming_cc))\n",
    "# print(\"Coverage: {:.4f}\".format(coverage_cc))"
   ]
  },
  {
   "cell_type": "code",
   "execution_count": null,
   "metadata": {
    "colab": {
     "base_uri": "https://localhost:8080/"
    },
    "id": "RsGVUEzH0cje",
    "outputId": "30f1102c-7ab9-44d1-c8f9-36fa6ce6e5f2"
   },
   "outputs": [],
   "source": [
    "print(\"Classifier Chains:\")\n",
    "coverage_cc = coverage_error(y_val, y_pred_val_cc)\n",
    "print(\"Accuracy: {:.4f}\".format(accuracy_cc))\n",
    "print(\"F1 Score: {:.4f}\".format(f1_cc))\n",
    "print(\"Precision: {:.4f}\".format(precision_cc))\n",
    "print(\"Recall: {:.4f}\".format(recall_cc))\n",
    "print(\"Hamming Loss: {:.4f}\".format(hamming_cc))\n",
    "print(\"Coverage: {:.4f}\".format(coverage_cc))"
   ]
  },
  {
   "cell_type": "code",
   "execution_count": null,
   "metadata": {
    "id": "HAoQ28LeB1Kw"
   },
   "outputs": [],
   "source": []
  },
  {
   "cell_type": "code",
   "execution_count": null,
   "metadata": {
    "colab": {
     "base_uri": "https://localhost:8080/",
     "height": 356
    },
    "id": "lsM6dXWpE79V",
    "outputId": "c62c9828-0cc8-498f-97f5-6ca803c82e2e"
   },
   "outputs": [],
   "source": [
    "\n",
    "# from skmultilearn.adapt import MLkNN\n",
    "# from sklearn.model_selection import GridSearchCV\n",
    "\n",
    "# # parameters = {'k': range(1,3), 's': [0.5, 0.7, 1.0]}\n",
    "\n",
    "# clf = MLkNN(k=10)\n",
    "# clf.fit(X_balanced_word2vec, y_balanced)\n",
    "\n",
    "# print (clf.best_params_, clf.best_score_)"
   ]
  },
  {
   "cell_type": "markdown",
   "metadata": {
    "id": "FPG0ALwEG034"
   },
   "source": [
    "# Pre-trained WordtoVec"
   ]
  },
  {
   "cell_type": "code",
   "execution_count": null,
   "metadata": {},
   "outputs": [],
   "source": [
    "import pandas as pd\n",
    "import numpy as np\n",
    "from sklearn.model_selection import train_test_split\n",
    "from sklearn.ensemble import RandomForestClassifier\n",
    "from sklearn.metrics import accuracy_score, f1_score, precision_score, recall_score, hamming_loss,coverage_error, confusion_matrix\n",
    "from sklearn_extra.cluster import KMedoids\n",
    "from sklearn.metrics import coverage_error\n",
    "from sklearn.neighbors import NearestNeighbors\n",
    "from gensim.models import Word2Vec\n",
    "from gensim.models import KeyedVectors\n",
    "import random\n",
    "\n",
    "# Load the dataset\n",
    "#train_data = pd.read_csv('/content/drive/MyDrive/train.csv')\n",
    "train_data = pd.read_csv('data/train.csv')\n",
    "train_data['TEXT'] = train_data['TITLE'] + ' ' + train_data['ABSTRACT']\n",
    "\n",
    "X = train_data['TEXT']\n",
    "y = train_data[['Computer Science', 'Physics', 'Mathematics', 'Statistics', 'Quantitative Biology', 'Quantitative Finance']].values\n",
    "\n",
    "# Split the dataset\n",
    "X_train, X_val, y_train, y_val = train_test_split(X, y, test_size=0.2, random_state=42)\n",
    "\n",
    "# # Train a Word2Vec model\n",
    "# sentences = [text.split() for text in X_train]\n",
    "# word2vec_model = Word2Vec(sentences, vector_size=100, window=5, min_count=1, workers=4)\n",
    "\n",
    "# Load the Google's pre-trained Word2Vec model\n",
    "word2vec_path = '/Users/deepika/Documents/Masters/Courses/Practicum/GoogleNews-vectors-negative300.bin'  # Provide the path to the downloaded Word2Vec binary file\n",
    "word2vec_model = KeyedVectors.load_word2vec_format(word2vec_path, binary=True)\n"
   ]
  },
  {
   "cell_type": "code",
   "execution_count": null,
   "metadata": {},
   "outputs": [],
   "source": [
    "def get_average_vectors(data, model, num_features):\n",
    "    return np.array([average_word_vectors(words, model, num_features) for words in data])\n",
    "\n",
    "def average_word_vectors(words, model, num_features):\n",
    "    feature_vector = np.zeros((num_features,), dtype=\"float64\")\n",
    "    n_words = 0\n",
    "    for word in words:\n",
    "        if word in model:\n",
    "            n_words += 1\n",
    "            feature_vector = np.add(feature_vector, model[word])\n",
    "    if n_words:\n",
    "        feature_vector = np.divide(feature_vector, n_words)\n",
    "    return feature_vector\n",
    "\n",
    "# Replace '300' with the actual dimensionality of your word vectors\n",
    "X_train_word2vec = get_average_vectors([text.split() for text in X_train], word2vec_model, 300)\n",
    "X_val_word2vec = get_average_vectors([text.split() for text in X_val], word2vec_model, 300)\n"
   ]
  },
  {
   "cell_type": "code",
   "execution_count": null,
   "metadata": {},
   "outputs": [],
   "source": [
    "\n",
    "# Helper function to identify minority labels\n",
    "def get_tail_labels(y):\n",
    "    tail_labels = [i for i in range(y.shape[1]) if np.sum(y[:, i]) < (y.shape[0] / 2)]\n",
    "    return tail_labels\n",
    "\n",
    "# Dynamic MLSMOTE function\n",
    "def dynamic_MLSMOTE(X, y, target_balance=4500):\n",
    "    n_neighbors = min(5, len(X) - 1)\n",
    "    neigh = NearestNeighbors(n_neighbors=n_neighbors)\n",
    "    neigh.fit(X)\n",
    "    tail_labels = get_tail_labels(y)\n",
    "    synthetic_samples = []\n",
    "    synthetic_labels = []\n",
    "\n",
    "    for i in tail_labels:\n",
    "        current_count = np.sum(y[:, i])\n",
    "        n_samples = max(target_balance - current_count, 0)  # Calculate the number of samples to generate\n",
    "        target_indices = np.where(y[:, i] == 1)[0]\n",
    "\n",
    "        if len(target_indices) >= n_neighbors:\n",
    "            nn = neigh.kneighbors(X[target_indices], return_distance=False)\n",
    "            for _ in range(n_samples):\n",
    "                sample_index = random.choice(range(len(target_indices)))\n",
    "                nn_indices = nn[sample_index, 1:]\n",
    "                chosen_nn = random.choice(nn_indices)\n",
    "                step = np.random.rand()\n",
    "                synthetic_sample = X[target_indices[sample_index]] + step * (X[chosen_nn] - X[target_indices[sample_index]])\n",
    "                synthetic_samples.append(synthetic_sample)\n",
    "                synthetic_label = y[target_indices[sample_index]].copy()\n",
    "                synthetic_labels.append(synthetic_label)\n",
    "\n",
    "    if len(synthetic_samples) > 0:\n",
    "        X_synthetic = np.vstack(synthetic_samples)\n",
    "        y_synthetic = np.vstack(synthetic_labels)\n",
    "        X_balanced = np.vstack((X, X_synthetic))\n",
    "        y_balanced = np.vstack((y, y_synthetic))\n",
    "        return X_balanced, y_balanced\n",
    "    else:\n",
    "        return X, y"
   ]
  },
  {
   "cell_type": "code",
   "execution_count": null,
   "metadata": {},
   "outputs": [],
   "source": [
    "y_train_np = y_train\n",
    "target_balance = 4500\n",
    "X_balanced_word2vec, y_balanced = dynamic_MLSMOTE(X_train_word2vec, y_train_np, target_balance=target_balance)"
   ]
  },
  {
   "cell_type": "code",
   "execution_count": null,
   "metadata": {},
   "outputs": [],
   "source": [
    "# Label Powerset SVM\n",
    "from skmultilearn.problem_transform import BinaryRelevance, ClassifierChain, LabelPowerset\n",
    "classifier_lp = LabelPowerset(SVC(class_weight='balanced'))\n",
    "classifier_lp.fit(X_balanced_word2vec, y_balanced)\n",
    "y_pred_val_lp = classifier_lp.predict(X_val_word2vec)\n",
    "accuracy_lp = accuracy_score(y_val, y_pred_val_lp)\n",
    "f1_lp = f1_score(y_val, y_pred_val_lp, average='weighted')\n",
    "precision_lp = precision_score(y_val, y_pred_val_lp, average='weighted')\n",
    "recall_lp = recall_score(y_val, y_pred_val_lp, average='weighted')\n",
    "hamming_lp = hamming_loss(y_val, y_pred_val_lp)\n",
    "coverage_lp = coverage_error(y_val, y_pred_val_lp.toarray())\n",
    "print(\"Label Powerset:\")\n",
    "print(\"Accuracy: {:.4f}\".format(accuracy_lp))\n",
    "print(\"F1 Score: {:.4f}\".format(f1_lp))\n",
    "print(\"Precision: {:.4f}\".format(precision_lp))\n",
    "print(\"Recall: {:.4f}\".format(recall_lp))\n",
    "print(\"Hamming Loss: {:.4f}\".format(hamming_lp))\n",
    "print(\"Coverage: {:.4f}\".format(coverage_lp))"
   ]
  },
  {
   "cell_type": "code",
   "execution_count": null,
   "metadata": {},
   "outputs": [],
   "source": [
    "# Binary Relevance SVM\n",
    "classifier_br = BinaryRelevance(SVC(class_weight='balanced'))\n",
    "classifier_br.fit(X_balanced_word2vec, y_balanced)\n",
    "y_pred_val_br = classifier_br.predict(X_val_word2vec)\n",
    "accuracy_br = accuracy_score(y_val, y_pred_val_br)\n",
    "f1_br = f1_score(y_val, y_pred_val_br, average='weighted')\n",
    "precision_br = precision_score(y_val, y_pred_val_br, average='weighted')\n",
    "recall_br = recall_score(y_val, y_pred_val_br, average='weighted')\n",
    "hamming_br = hamming_loss(y_val, y_pred_val_br)\n",
    "coverage_br = coverage_error(y_val, y_pred_val_br.toarray())\n",
    "print(\"Binary Relevance:\")\n",
    "print(\"Accuracy: {:.4f}\".format(accuracy_br))\n",
    "print(\"F1 Score: {:.4f}\".format(f1_br))\n",
    "print(\"Precision: {:.4f}\".format(precision_br))\n",
    "print(\"Recall: {:.4f}\".format(recall_br))\n",
    "print(\"Hamming Loss: {:.4f}\".format(hamming_br))\n",
    "print(\"Coverage: {:.4f}\".format(coverage_br))\n"
   ]
  },
  {
   "cell_type": "code",
   "execution_count": null,
   "metadata": {},
   "outputs": [],
   "source": [
    "# Binary Relevance SVM\n",
    "# classifier_br = BinaryRelevance()\n",
    "classifier_cc = ClassifierChain(SVC(class_weight='balanced'))\n",
    "classifier_cc.fit(X_balanced_word2vec, y_balanced)\n",
    "y_pred_val_cc = classifier_cc.predict(X_val_word2vec)\n",
    "accuracy_cc = accuracy_score(y_val, y_pred_val_cc)\n",
    "f1_cc = f1_score(y_val, y_pred_val_cc, average='weighted')\n",
    "precision_cc = precision_score(y_val, y_pred_val_cc, average='weighted')\n",
    "recall_cc = recall_score(y_val, y_pred_val_cc, average='weighted')\n",
    "hamming_cc = hamming_loss(y_val, y_pred_val_cc)\n",
    "coverage_cc = coverage_error(y_val, y_pred_val_cc.toarray())\n",
    "print(\"Classifier Chains:\")\n",
    "print(\"Accuracy: {:.4f}\".format(accuracy_cc))\n",
    "print(\"F1 Score: {:.4f}\".format(f1_cc))\n",
    "print(\"Precision: {:.4f}\".format(precision_cc))\n",
    "print(\"Recall: {:.4f}\".format(recall_cc))\n",
    "print(\"Hamming Loss: {:.4f}\".format(hamming_cc))\n",
    "#coverage_cc = coverage_error(y_val, y_pred_val_cc)\n",
    "print(\"Coverage: {:.4f}\".format(coverage_cc))"
   ]
  },
  {
   "cell_type": "markdown",
   "metadata": {},
   "source": [
    "# TF-IDF"
   ]
  },
  {
   "cell_type": "code",
   "execution_count": 1,
   "metadata": {},
   "outputs": [],
   "source": [
    "import pandas as pd\n",
    "import numpy as np\n",
    "from sklearn.model_selection import train_test_split\n",
    "from sklearn.ensemble import RandomForestClassifier\n",
    "from sklearn.metrics import accuracy_score, f1_score, precision_score, recall_score, hamming_loss,coverage_error, confusion_matrix\n",
    "from sklearn_extra.cluster import KMedoids\n",
    "from sklearn.metrics import coverage_error\n",
    "from sklearn.neighbors import NearestNeighbors\n",
    "from sklearn.feature_extraction.text import TfidfVectorizer\n",
    "from gensim.models import Word2Vec\n",
    "from gensim.models import KeyedVectors"
   ]
  },
  {
   "cell_type": "code",
   "execution_count": 2,
   "metadata": {},
   "outputs": [
    {
     "name": "stdout",
     "output_type": "stream",
     "text": [
      "Class distribution before applying dynamic MLSMOTE:\n",
      "Computer Science: 6902\n",
      "Physics: 4787\n",
      "Mathematics: 4468\n",
      "Statistics: 4137\n",
      "Quantitative Biology: 465\n",
      "Quantitative Finance: 204\n",
      "\n",
      "\n",
      "Class distribution after applying dynamic MLSMOTE:\n",
      "Computer Science: 7576\n",
      "Physics: 4799\n",
      "Mathematics: 4598\n",
      "Statistics: 5720\n",
      "Quantitative Biology: 4570\n",
      "Quantitative Finance: 4525\n"
     ]
    }
   ],
   "source": [
    "import pandas as pd\n",
    "import numpy as np\n",
    "from sklearn.feature_extraction.text import TfidfVectorizer\n",
    "from sklearn.model_selection import train_test_split\n",
    "from sklearn.neighbors import NearestNeighbors\n",
    "import random\n",
    "\n",
    "# Load the dataset\n",
    "#train_data = pd.read_csv('train.csv')\n",
    "train_data = pd.read_csv('data/train.csv')\n",
    "train_data['TEXT'] = train_data['TITLE'] + ' ' + train_data['ABSTRACT']\n",
    "\n",
    "X = train_data['TEXT']\n",
    "y = train_data[['Computer Science', 'Physics', 'Mathematics', 'Statistics', 'Quantitative Biology', 'Quantitative Finance']].values\n",
    "\n",
    "# Split the dataset\n",
    "X_train, X_val, y_train, y_val = train_test_split(X, y, test_size=0.2, random_state=42)\n",
    "\n",
    "# TF-IDF Vectorizer\n",
    "vectorizer = TfidfVectorizer(max_features=10000)\n",
    "X_train_tfidf = vectorizer.fit_transform(X_train).toarray()\n",
    "X_val_tfidf = vectorizer.transform(X_val).toarray()\n",
    "\n",
    "# Helper function to identify minority labels\n",
    "def get_tail_labels(y):\n",
    "    tail_labels = [i for i in range(y.shape[1]) if np.sum(y[:, i]) < (y.shape[0] / 2)]\n",
    "    return tail_labels\n",
    "\n",
    "# class distribution before applying dynamic MLSMOTE\n",
    "print(\"Class distribution before applying dynamic MLSMOTE:\")\n",
    "for i, label in enumerate(['Computer Science', 'Physics', 'Mathematics', 'Statistics', 'Quantitative Biology', 'Quantitative Finance']):\n",
    "    print(f\"{label}: {np.sum(y_train[:, i])}\")\n",
    "\n",
    "# Dynamic MLSMOTE function\n",
    "def dynamic_MLSMOTE(X, y, target_balance=4500):\n",
    "    n_neighbors = min(5, len(X) - 1)\n",
    "    neigh = NearestNeighbors(n_neighbors=n_neighbors)\n",
    "    neigh.fit(X)\n",
    "    tail_labels = get_tail_labels(y)\n",
    "    synthetic_samples = []\n",
    "    synthetic_labels = []\n",
    "\n",
    "    for i in tail_labels:\n",
    "        current_count = np.sum(y[:, i])\n",
    "        n_samples = max(target_balance - current_count, 0)  # Calculate the number of samples to generate\n",
    "        target_indices = np.where(y[:, i] == 1)[0]\n",
    "        \n",
    "        if len(target_indices) >= n_neighbors:\n",
    "            nn = neigh.kneighbors(X[target_indices], return_distance=False)\n",
    "            for _ in range(n_samples):\n",
    "                sample_index = random.choice(range(len(target_indices)))\n",
    "                nn_indices = nn[sample_index, 1:]\n",
    "                chosen_nn = random.choice(nn_indices)\n",
    "                step = np.random.rand()\n",
    "                synthetic_sample = X[target_indices[sample_index]] + step * (X[chosen_nn] - X[target_indices[sample_index]])\n",
    "                synthetic_samples.append(synthetic_sample)\n",
    "                synthetic_label = y[target_indices[sample_index]].copy()\n",
    "                synthetic_labels.append(synthetic_label)\n",
    "    \n",
    "    if len(synthetic_samples) > 0:\n",
    "        X_synthetic = np.vstack(synthetic_samples)\n",
    "        y_synthetic = np.vstack(synthetic_labels)\n",
    "        X_balanced = np.vstack((X, X_synthetic))\n",
    "        y_balanced = np.vstack((y, y_synthetic))\n",
    "        return X_balanced, y_balanced\n",
    "    else:\n",
    "        return X, y\n",
    "\n",
    "# Convert y_train to numpy array for processing\n",
    "y_train_np = y_train\n",
    "\n",
    "# Adjust this target balance\n",
    "target_balance = 4500  \n",
    "X_balanced_tfidf, y_balanced = dynamic_MLSMOTE(X_train_tfidf, y_train_np, target_balance=target_balance)\n",
    "\n",
    "# class distribution after applying dynamic MLSMOTE\n",
    "print(\"\\n\")\n",
    "print(\"Class distribution after applying dynamic MLSMOTE:\")\n",
    "for i, label in enumerate(['Computer Science', 'Physics', 'Mathematics', 'Statistics', 'Quantitative Biology', 'Quantitative Finance']):\n",
    "    print(f\"{label}: {np.sum(y_balanced[:, i])}\")\n"
   ]
  },
  {
   "cell_type": "code",
   "execution_count": null,
   "metadata": {},
   "outputs": [],
   "source": [
    "y_train_np = y_train\n",
    "target_balance = 4500\n",
    "#X_balanced_tfidf, y_balanced = dynamic_MLSMOTE(X_balanced_tfidf, y_train_np, target_balance=target_balance)"
   ]
  },
  {
   "cell_type": "code",
   "execution_count": null,
   "metadata": {},
   "outputs": [],
   "source": [
    "# Label Powerset SVM\n",
    "from skmultilearn.problem_transform import BinaryRelevance, ClassifierChain, LabelPowerset\n",
    "classifier_lp = LabelPowerset(SVC(class_weight='balanced'))\n",
    "classifier_lp.fit(X_balanced_tfidf, y_balanced)\n",
    "y_pred_val_lp = classifier_lp.predict(X_val_tfidf)\n",
    "accuracy_lp = accuracy_score(y_val, y_pred_val_lp)\n",
    "f1_lp = f1_score(y_val, y_pred_val_lp, average='weighted')\n",
    "precision_lp = precision_score(y_val, y_pred_val_lp, average='weighted')\n",
    "recall_lp = recall_score(y_val, y_pred_val_lp, average='weighted')\n",
    "hamming_lp = hamming_loss(y_val, y_pred_val_lp)\n",
    "coverage_lp = coverage_error(y_val, y_pred_val_lp.toarray())\n",
    "print(\"Label Powerset:\")\n",
    "print(\"Accuracy: {:.4f}\".format(accuracy_lp))\n",
    "print(\"F1 Score: {:.4f}\".format(f1_lp))\n",
    "print(\"Precision: {:.4f}\".format(precision_lp))\n",
    "print(\"Recall: {:.4f}\".format(recall_lp))\n",
    "print(\"Hamming Loss: {:.4f}\".format(hamming_lp))\n",
    "print(\"Coverage: {:.4f}\".format(coverage_lp))"
   ]
  },
  {
   "cell_type": "code",
   "execution_count": null,
   "metadata": {},
   "outputs": [],
   "source": [
    "# Binary Relevance SVM\n",
    "classifier_br = BinaryRelevance(SVC(class_weight='balanced'))\n",
    "classifier_br.fit(X_balanced_tfidf, y_balanced)\n",
    "y_pred_val_br = classifier_br.predict(X_val_tfidf)\n",
    "accuracy_br = accuracy_score(y_val, y_pred_val_br)\n",
    "f1_br = f1_score(y_val, y_pred_val_br, average='weighted')\n",
    "precision_br = precision_score(y_val, y_pred_val_br, average='weighted')\n",
    "recall_br = recall_score(y_val, y_pred_val_br, average='weighted')\n",
    "hamming_br = hamming_loss(y_val, y_pred_val_br)\n",
    "coverage_br = coverage_error(y_val, y_pred_val_br.toarray())\n",
    "print(\"Binary Relevance:\")\n",
    "print(\"Accuracy: {:.4f}\".format(accuracy_br))\n",
    "print(\"F1 Score: {:.4f}\".format(f1_br))\n",
    "print(\"Precision: {:.4f}\".format(precision_br))\n",
    "print(\"Recall: {:.4f}\".format(recall_br))\n",
    "print(\"Hamming Loss: {:.4f}\".format(hamming_br))\n",
    "print(\"Coverage: {:.4f}\".format(coverage_br))\n"
   ]
  },
  {
   "cell_type": "code",
   "execution_count": null,
   "metadata": {},
   "outputs": [],
   "source": [
    "# Classifier Chains SVM\n",
    "# classifier_br = BinaryRelevance()\n",
    "classifier_cc = ClassifierChain(SVC(class_weight='balanced'))\n",
    "classifier_cc.fit(X_balanced_tfidf, y_balanced)\n",
    "y_pred_val_cc = classifier_cc.predict(X_val_tfidf)\n",
    "accuracy_cc = accuracy_score(y_val, y_pred_val_cc)\n",
    "f1_cc = f1_score(y_val, y_pred_val_cc, average='weighted')\n",
    "precision_cc = precision_score(y_val, y_pred_val_cc, average='weighted')\n",
    "recall_cc = recall_score(y_val, y_pred_val_cc, average='weighted')\n",
    "hamming_cc = hamming_loss(y_val, y_pred_val_cc)\n",
    "coverage_cc = coverage_error(y_val, y_pred_val_cc.toarray())\n",
    "print(\"Classifier Chains:\")\n",
    "print(\"Accuracy: {:.4f}\".format(accuracy_cc))\n",
    "print(\"F1 Score: {:.4f}\".format(f1_cc))\n",
    "print(\"Precision: {:.4f}\".format(precision_cc))\n",
    "print(\"Recall: {:.4f}\".format(recall_cc))\n",
    "print(\"Hamming Loss: {:.4f}\".format(hamming_cc))\n",
    "#coverage_cc = coverage_error(y_val, y_pred_val_cc)\n",
    "print(\"Coverage: {:.4f}\".format(coverage_cc))"
   ]
  },
  {
   "cell_type": "code",
   "execution_count": null,
   "metadata": {},
   "outputs": [],
   "source": []
  }
 ],
 "metadata": {
  "colab": {
   "provenance": []
  },
  "kernelspec": {
   "display_name": "Python 3 (ipykernel)",
   "language": "python",
   "name": "python3"
  },
  "language_info": {
   "codemirror_mode": {
    "name": "ipython",
    "version": 3
   },
   "file_extension": ".py",
   "mimetype": "text/x-python",
   "name": "python",
   "nbconvert_exporter": "python",
   "pygments_lexer": "ipython3",
   "version": "3.11.4"
  }
 },
 "nbformat": 4,
 "nbformat_minor": 1
}
